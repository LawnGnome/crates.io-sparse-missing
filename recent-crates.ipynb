{
 "cells": [
  {
   "cell_type": "markdown",
   "id": "d99afe6e",
   "metadata": {},
   "source": [
    "Let's look at the last day's worth of crates and see what is in the S3 index versus Git."
   ]
  },
  {
   "cell_type": "markdown",
   "id": "5dec9ce3",
   "metadata": {},
   "source": [
    "First, we need to load up the Git repo and build a list of recent publishes."
   ]
  },
  {
   "cell_type": "code",
   "execution_count": 2,
   "id": "df3f7ef8",
   "metadata": {},
   "outputs": [
    {
     "name": "stdout",
     "output_type": "stream",
     "text": [
      "100 2023-04-11 17:18:53\n",
      "200 2023-04-11 15:26:08\n",
      "300 2023-04-11 14:47:20\n",
      "400 2023-04-11 13:51:46\n",
      "500 2023-04-11 13:00:58\n",
      "600 2023-04-11 12:41:40\n",
      "700 2023-04-11 11:49:55\n",
      "800 2023-04-11 10:18:09\n",
      "900 2023-04-11 09:41:50\n",
      "1000 2023-04-11 08:53:15\n",
      "1100 2023-04-11 08:06:04\n",
      "1200 2023-04-11 07:56:25\n",
      "1300 2023-04-11 06:46:51\n",
      "1400 2023-04-11 06:25:42\n",
      "1500 2023-04-11 05:25:05\n",
      "1600 2023-04-11 04:43:28\n",
      "1700 2023-04-11 03:32:52\n",
      "1800 2023-04-11 01:36:32\n",
      "1900 2023-04-11 00:32:00\n",
      "2000 2023-04-11 00:09:41\n",
      "2100 2023-04-11 00:01:24\n",
      "2200 2023-04-10 23:28:44\n",
      "2300 2023-04-10 22:23:58\n",
      "2400 2023-04-10 21:48:35\n",
      "2500 2023-04-10 20:23:32\n",
      "2600 2023-04-10 19:19:24\n",
      "2700 2023-04-10 18:59:36\n"
     ]
    },
    {
     "data": {
      "text/plain": [
       "2701"
      ]
     },
     "execution_count": 2,
     "metadata": {},
     "output_type": "execute_result"
    }
   ],
   "source": [
    "import json\n",
    "\n",
    "from datetime import datetime, timedelta\n",
    "from pygit2 import Repository, GIT_SORT_TIME\n",
    "\n",
    "# How far to go back: currently one day.\n",
    "since = datetime.now() - timedelta(days=1)\n",
    "\n",
    "# Load the repo.\n",
    "repo = Repository(\"crates.io-index\")\n",
    "\n",
    "# Build the added crate versions up.\n",
    "added = []\n",
    "for commit in repo.walk(repo.head.target, GIT_SORT_TIME):\n",
    "    # Check if the diff is before the start time we care about.\n",
    "    when = datetime.fromtimestamp(commit.commit_time)\n",
    "    if when < since:\n",
    "        break\n",
    "    \n",
    "    # Check if there are actually any new packages.\n",
    "    diff = repo.diff(commit.parents[0], commit)\n",
    "    if diff.stats.insertions == 0:\n",
    "        continue\n",
    "                \n",
    "    # Parse out the new crate versions.\n",
    "    for patch in diff:\n",
    "        for hunk in patch.hunks:\n",
    "            for line in hunk.lines:\n",
    "                if line.new_lineno != -1:\n",
    "                    version = json.loads(line.content)\n",
    "                    added.append({\n",
    "                        \"version\": version,\n",
    "                        \"when\": when,\n",
    "                    })\n",
    "                    if len(added) % 100 == 0:\n",
    "                        print(f\"{len(added)} {when}\")\n",
    "    \n",
    "len(added)"
   ]
  },
  {
   "cell_type": "markdown",
   "id": "f5f6762e",
   "metadata": {},
   "source": [
    "Now we have to check which packages are available in the sparse index."
   ]
  },
  {
   "cell_type": "code",
   "execution_count": 4,
   "id": "7c73ec7c",
   "metadata": {},
   "outputs": [
    {
     "name": "stdout",
     "output_type": "stream",
     "text": [
      "retrieved 0/558 crates\n",
      "retrieved 100/558 crates\n",
      "retrieved 200/558 crates\n",
      "retrieved 300/558 crates\n",
      "retrieved 400/558 crates\n",
      "retrieved 500/558 crates\n"
     ]
    },
    {
     "data": {
      "text/plain": [
       "50"
      ]
     },
     "execution_count": 4,
     "metadata": {},
     "output_type": "execute_result"
    }
   ],
   "source": [
    "import requests\n",
    "\n",
    "def crate_name_path(name: str) -> str:\n",
    "    name = name.lower()\n",
    "    if len(name) == 1:\n",
    "        return f\"1/{name}\"\n",
    "    elif len(name) == 2:\n",
    "        return f\"2/{name}\"\n",
    "    elif len(name) == 3:\n",
    "        return f\"3/{name[0]}/{name}\"\n",
    "    else:\n",
    "        return f\"{name[0:2]}/{name[2:4]}/{name}\"\n",
    "    \n",
    "def crate_index_contains_version(index: requests.Response, version: str) -> bool:\n",
    "    for index_version in [json.loads(line) for line in [line.strip() for line in r.text.split(\"\\n\")] if len(line) > 0]:\n",
    "        if index_version[\"vers\"] == version:\n",
    "            return True\n",
    "    return False\n",
    "\n",
    "# Since some crates have been published multiple times, we should cache the sparse indices on a per-crate basis.\n",
    "sparse = {}\n",
    "names = set([version[\"version\"][\"name\"] for version in added])\n",
    "session = requests.Session()\n",
    "for i, name in enumerate(names):\n",
    "    sparse[name] = set([\n",
    "        json.loads(line)[\"vers\"] for line in [\n",
    "            line.strip() for line in session.get(f\"https://index.crates.io/{crate_name_path(name)}\").iter_lines()\n",
    "        ] if len(line) > 0\n",
    "    ])\n",
    "    if i % 100 == 0:\n",
    "        print(f\"retrieved {i}/{len(names)} crates\")\n",
    "    \n",
    "# Create a new list with just the missing package versions.\n",
    "missing = []\n",
    "for version in added:\n",
    "    if version[\"version\"][\"vers\"] not in sparse[version[\"version\"][\"name\"]]:\n",
    "        missing.append(version)\n",
    "        \n",
    "len(missing)"
   ]
  },
  {
   "cell_type": "markdown",
   "id": "f3c752a0",
   "metadata": {},
   "source": [
    "Let's dump out the crates and versions in a friendlier manner."
   ]
  },
  {
   "cell_type": "code",
   "execution_count": 5,
   "id": "f9328a75",
   "metadata": {
    "scrolled": true
   },
   "outputs": [
    {
     "data": {
      "text/plain": [
       "[(datetime.datetime(2023, 4, 11, 13, 27, 32), 'witchcraft-server', '3.5.0'),\n",
       " (datetime.datetime(2023, 4, 11, 13, 26, 27),\n",
       "  'witchcraft-server-macros',\n",
       "  '3.5.0'),\n",
       " (datetime.datetime(2023, 4, 11, 13, 26, 8),\n",
       "  'witchcraft-server-config',\n",
       "  '3.5.0'),\n",
       " (datetime.datetime(2023, 4, 11, 13, 2, 12), 'slothlang', '1.4.0'),\n",
       " (datetime.datetime(2023, 4, 11, 12, 48, 31), 'toad-jni', '0.8.0'),\n",
       " (datetime.datetime(2023, 4, 11, 12, 42, 44), 'tx5-demo', '0.0.1-alpha.9'),\n",
       " (datetime.datetime(2023, 4, 11, 12, 38, 11), 's2protocol', '1.0.0'),\n",
       " (datetime.datetime(2023, 4, 11, 12, 33, 41), 'serde_arrow', '0.6.1'),\n",
       " (datetime.datetime(2023, 4, 11, 12, 16, 16),\n",
       "  'thinker',\n",
       "  '0.2.0-beta.1+2023041101'),\n",
       " (datetime.datetime(2023, 4, 11, 12, 16, 16),\n",
       "  'thinker',\n",
       "  '0.2.0-beta.1+2023041102'),\n",
       " (datetime.datetime(2023, 4, 11, 12, 16, 16), 'thinker', '0.3.0-beta.1'),\n",
       " (datetime.datetime(2023, 4, 11, 12, 16, 16),\n",
       "  'thinker',\n",
       "  '0.3.0-beta.1+2023041101'),\n",
       " (datetime.datetime(2023, 4, 11, 12, 15, 55), 'spv-cross', '0.23.3'),\n",
       " (datetime.datetime(2023, 4, 11, 12, 14, 7),\n",
       "  'thinker',\n",
       "  '0.2.0-beta.1+2023041101'),\n",
       " (datetime.datetime(2023, 4, 11, 12, 14, 7),\n",
       "  'thinker',\n",
       "  '0.2.0-beta.1+2023041102'),\n",
       " (datetime.datetime(2023, 4, 11, 12, 14, 7), 'thinker', '0.3.0-beta.1'),\n",
       " (datetime.datetime(2023, 4, 11, 12, 10, 59),\n",
       "  'thinker',\n",
       "  '0.2.0-beta.1+2023041101'),\n",
       " (datetime.datetime(2023, 4, 11, 12, 10, 59),\n",
       "  'thinker',\n",
       "  '0.2.0-beta.1+2023041102'),\n",
       " (datetime.datetime(2023, 4, 11, 12, 9, 17),\n",
       "  'thinker',\n",
       "  '0.2.0-beta.1+2023041101'),\n",
       " (datetime.datetime(2023, 4, 11, 12, 6, 33),\n",
       "  'semantic-release-cargo',\n",
       "  '2.1.63'),\n",
       " (datetime.datetime(2023, 4, 11, 12, 6, 15), 'system_tz', '0.4.0'),\n",
       " (datetime.datetime(2023, 4, 11, 11, 49, 55), 'lambda-extension', '0.8.1'),\n",
       " (datetime.datetime(2023, 4, 11, 11, 49, 21), 'lambda_http', '0.8.0'),\n",
       " (datetime.datetime(2023, 4, 11, 11, 48, 41), 'lambda_runtime', '0.8.0'),\n",
       " (datetime.datetime(2023, 4, 11, 11, 48, 1),\n",
       "  'lambda_runtime_api_client',\n",
       "  '0.8.0'),\n",
       " (datetime.datetime(2023, 4, 11, 11, 43), 'prost-reflect', '0.11.3'),\n",
       " (datetime.datetime(2023, 4, 11, 11, 38, 53), 'vjoy', '0.3.0'),\n",
       " (datetime.datetime(2023, 4, 11, 11, 25, 59), 'routez', '0.3.1'),\n",
       " (datetime.datetime(2023, 4, 11, 11, 24, 48), 'luau0-src', '0.5.5+luau571'),\n",
       " (datetime.datetime(2023, 4, 11, 11, 21, 36), 'tg-flows', '0.1.9'),\n",
       " (datetime.datetime(2023, 4, 11, 10, 47, 56), 'server_nano', '0.1.5'),\n",
       " (datetime.datetime(2023, 4, 11, 10, 40, 3), 'more-di', '2.1.1'),\n",
       " (datetime.datetime(2023, 4, 11, 10, 36, 46), 'oxidized_navigation', '0.4.0'),\n",
       " (datetime.datetime(2023, 4, 11, 10, 36, 21), 'vjoy-sys', '0.3.0'),\n",
       " (datetime.datetime(2023, 4, 11, 10, 35, 58), 'peekmore', '1.2.1'),\n",
       " (datetime.datetime(2023, 4, 11, 10, 28, 4), 'cargo-show-asm', '0.2.17'),\n",
       " (datetime.datetime(2023, 4, 11, 10, 25, 23), 'derive-build', '0.1.1'),\n",
       " (datetime.datetime(2023, 4, 11, 10, 20, 26), 'nesbox_utils', '0.0.3'),\n",
       " (datetime.datetime(2023, 4, 11, 10, 18, 9), 'macros-core', '0.2.0'),\n",
       " (datetime.datetime(2023, 4, 11, 10, 18, 9), 'macros-core', '0.2.1'),\n",
       " (datetime.datetime(2023, 4, 11, 10, 17, 49), 'macros-macros', '0.2.0'),\n",
       " (datetime.datetime(2023, 4, 11, 10, 17, 49), 'macros-macros', '0.2.1'),\n",
       " (datetime.datetime(2023, 4, 11, 10, 17, 19), 'nesbox_utils_macro', '0.0.3'),\n",
       " (datetime.datetime(2023, 4, 11, 10, 17), 'macros-utils', '0.2.0'),\n",
       " (datetime.datetime(2023, 4, 11, 10, 17), 'macros-utils', '0.2.1'),\n",
       " (datetime.datetime(2023, 4, 11, 10, 11, 4), 'nyx', '2.2.2'),\n",
       " (datetime.datetime(2023, 4, 11, 10, 9, 30), 'macros-core', '0.2.0'),\n",
       " (datetime.datetime(2023, 4, 11, 10, 9, 18), 'hpo', '0.6.3'),\n",
       " (datetime.datetime(2023, 4, 11, 10, 9, 8), 'macros-macros', '0.2.0'),\n",
       " (datetime.datetime(2023, 4, 11, 10, 8, 50), 'macros-utils', '0.2.0')]"
      ]
     },
     "execution_count": 5,
     "metadata": {},
     "output_type": "execute_result"
    }
   ],
   "source": [
    "[(version[\"when\"], version[\"version\"][\"name\"], version[\"version\"][\"vers\"]) for version in missing]"
   ]
  },
  {
   "cell_type": "markdown",
   "id": "2d12569c",
   "metadata": {},
   "source": [
    "Now let's see _when_ this happened."
   ]
  },
  {
   "cell_type": "code",
   "execution_count": 8,
   "id": "63c32c70",
   "metadata": {},
   "outputs": [
    {
     "data": {
      "application/vnd.plotly.v1+json": {
       "config": {
        "plotlyServerURL": "https://plot.ly"
       },
       "data": [
        {
         "hovertemplate": "variable=all<br>index=%{x}<br>value=%{y}<extra></extra>",
         "legendgroup": "all",
         "line": {
          "color": "#636efa",
          "dash": "solid"
         },
         "marker": {
          "symbol": "circle"
         },
         "mode": "lines",
         "name": "all",
         "orientation": "v",
         "showlegend": true,
         "type": "scatter",
         "x": [
          "Wed 00:00",
          "Tue 23:00",
          "Tue 22:00",
          "Tue 21:00",
          "Tue 20:00",
          "Tue 19:00",
          "Tue 18:00",
          "Tue 17:00",
          "Tue 16:00",
          "Tue 15:00",
          "Tue 14:00",
          "Tue 13:00",
          "Tue 12:00",
          "Tue 11:00",
          "Tue 10:00",
          "Tue 09:00",
          "Tue 08:00",
          "Tue 07:00",
          "Tue 06:00",
          "Tue 05:00",
          "Tue 04:00",
          "Tue 03:00",
          "Tue 02:00",
          "Tue 01:00"
         ],
         "xaxis": "x",
         "y": [
          127,
          31,
          96,
          135,
          117,
          175,
          65,
          101,
          110,
          187,
          127,
          170,
          108,
          121,
          42,
          48,
          87,
          237,
          165,
          75,
          94,
          91,
          164,
          4
         ],
         "yaxis": "y"
        },
        {
         "hovertemplate": "variable=missing<br>index=%{x}<br>value=%{y}<extra></extra>",
         "legendgroup": "missing",
         "line": {
          "color": "#EF553B",
          "dash": "solid"
         },
         "marker": {
          "symbol": "circle"
         },
         "mode": "lines",
         "name": "missing",
         "orientation": "v",
         "showlegend": true,
         "type": "scatter",
         "x": [
          "Wed 00:00",
          "Tue 23:00",
          "Tue 22:00",
          "Tue 21:00",
          "Tue 20:00",
          "Tue 19:00",
          "Tue 18:00",
          "Tue 17:00",
          "Tue 16:00",
          "Tue 15:00",
          "Tue 14:00",
          "Tue 13:00",
          "Tue 12:00",
          "Tue 11:00",
          "Tue 10:00",
          "Tue 09:00",
          "Tue 08:00",
          "Tue 07:00",
          "Tue 06:00",
          "Tue 05:00",
          "Tue 04:00",
          "Tue 03:00",
          "Tue 02:00",
          "Tue 01:00"
         ],
         "xaxis": "x",
         "y": [
          0,
          0,
          0,
          0,
          4,
          17,
          9,
          20,
          0,
          0,
          0,
          0,
          0,
          0,
          0,
          0,
          0,
          0,
          0,
          0,
          0,
          0,
          0,
          0
         ],
         "yaxis": "y"
        }
       ],
       "layout": {
        "legend": {
         "title": {
          "text": "variable"
         },
         "tracegroupgap": 0
        },
        "margin": {
         "t": 60
        },
        "template": {
         "data": {
          "bar": [
           {
            "error_x": {
             "color": "#2a3f5f"
            },
            "error_y": {
             "color": "#2a3f5f"
            },
            "marker": {
             "line": {
              "color": "#E5ECF6",
              "width": 0.5
             },
             "pattern": {
              "fillmode": "overlay",
              "size": 10,
              "solidity": 0.2
             }
            },
            "type": "bar"
           }
          ],
          "barpolar": [
           {
            "marker": {
             "line": {
              "color": "#E5ECF6",
              "width": 0.5
             },
             "pattern": {
              "fillmode": "overlay",
              "size": 10,
              "solidity": 0.2
             }
            },
            "type": "barpolar"
           }
          ],
          "carpet": [
           {
            "aaxis": {
             "endlinecolor": "#2a3f5f",
             "gridcolor": "white",
             "linecolor": "white",
             "minorgridcolor": "white",
             "startlinecolor": "#2a3f5f"
            },
            "baxis": {
             "endlinecolor": "#2a3f5f",
             "gridcolor": "white",
             "linecolor": "white",
             "minorgridcolor": "white",
             "startlinecolor": "#2a3f5f"
            },
            "type": "carpet"
           }
          ],
          "choropleth": [
           {
            "colorbar": {
             "outlinewidth": 0,
             "ticks": ""
            },
            "type": "choropleth"
           }
          ],
          "contour": [
           {
            "colorbar": {
             "outlinewidth": 0,
             "ticks": ""
            },
            "colorscale": [
             [
              0,
              "#0d0887"
             ],
             [
              0.1111111111111111,
              "#46039f"
             ],
             [
              0.2222222222222222,
              "#7201a8"
             ],
             [
              0.3333333333333333,
              "#9c179e"
             ],
             [
              0.4444444444444444,
              "#bd3786"
             ],
             [
              0.5555555555555556,
              "#d8576b"
             ],
             [
              0.6666666666666666,
              "#ed7953"
             ],
             [
              0.7777777777777778,
              "#fb9f3a"
             ],
             [
              0.8888888888888888,
              "#fdca26"
             ],
             [
              1,
              "#f0f921"
             ]
            ],
            "type": "contour"
           }
          ],
          "contourcarpet": [
           {
            "colorbar": {
             "outlinewidth": 0,
             "ticks": ""
            },
            "type": "contourcarpet"
           }
          ],
          "heatmap": [
           {
            "colorbar": {
             "outlinewidth": 0,
             "ticks": ""
            },
            "colorscale": [
             [
              0,
              "#0d0887"
             ],
             [
              0.1111111111111111,
              "#46039f"
             ],
             [
              0.2222222222222222,
              "#7201a8"
             ],
             [
              0.3333333333333333,
              "#9c179e"
             ],
             [
              0.4444444444444444,
              "#bd3786"
             ],
             [
              0.5555555555555556,
              "#d8576b"
             ],
             [
              0.6666666666666666,
              "#ed7953"
             ],
             [
              0.7777777777777778,
              "#fb9f3a"
             ],
             [
              0.8888888888888888,
              "#fdca26"
             ],
             [
              1,
              "#f0f921"
             ]
            ],
            "type": "heatmap"
           }
          ],
          "heatmapgl": [
           {
            "colorbar": {
             "outlinewidth": 0,
             "ticks": ""
            },
            "colorscale": [
             [
              0,
              "#0d0887"
             ],
             [
              0.1111111111111111,
              "#46039f"
             ],
             [
              0.2222222222222222,
              "#7201a8"
             ],
             [
              0.3333333333333333,
              "#9c179e"
             ],
             [
              0.4444444444444444,
              "#bd3786"
             ],
             [
              0.5555555555555556,
              "#d8576b"
             ],
             [
              0.6666666666666666,
              "#ed7953"
             ],
             [
              0.7777777777777778,
              "#fb9f3a"
             ],
             [
              0.8888888888888888,
              "#fdca26"
             ],
             [
              1,
              "#f0f921"
             ]
            ],
            "type": "heatmapgl"
           }
          ],
          "histogram": [
           {
            "marker": {
             "pattern": {
              "fillmode": "overlay",
              "size": 10,
              "solidity": 0.2
             }
            },
            "type": "histogram"
           }
          ],
          "histogram2d": [
           {
            "colorbar": {
             "outlinewidth": 0,
             "ticks": ""
            },
            "colorscale": [
             [
              0,
              "#0d0887"
             ],
             [
              0.1111111111111111,
              "#46039f"
             ],
             [
              0.2222222222222222,
              "#7201a8"
             ],
             [
              0.3333333333333333,
              "#9c179e"
             ],
             [
              0.4444444444444444,
              "#bd3786"
             ],
             [
              0.5555555555555556,
              "#d8576b"
             ],
             [
              0.6666666666666666,
              "#ed7953"
             ],
             [
              0.7777777777777778,
              "#fb9f3a"
             ],
             [
              0.8888888888888888,
              "#fdca26"
             ],
             [
              1,
              "#f0f921"
             ]
            ],
            "type": "histogram2d"
           }
          ],
          "histogram2dcontour": [
           {
            "colorbar": {
             "outlinewidth": 0,
             "ticks": ""
            },
            "colorscale": [
             [
              0,
              "#0d0887"
             ],
             [
              0.1111111111111111,
              "#46039f"
             ],
             [
              0.2222222222222222,
              "#7201a8"
             ],
             [
              0.3333333333333333,
              "#9c179e"
             ],
             [
              0.4444444444444444,
              "#bd3786"
             ],
             [
              0.5555555555555556,
              "#d8576b"
             ],
             [
              0.6666666666666666,
              "#ed7953"
             ],
             [
              0.7777777777777778,
              "#fb9f3a"
             ],
             [
              0.8888888888888888,
              "#fdca26"
             ],
             [
              1,
              "#f0f921"
             ]
            ],
            "type": "histogram2dcontour"
           }
          ],
          "mesh3d": [
           {
            "colorbar": {
             "outlinewidth": 0,
             "ticks": ""
            },
            "type": "mesh3d"
           }
          ],
          "parcoords": [
           {
            "line": {
             "colorbar": {
              "outlinewidth": 0,
              "ticks": ""
             }
            },
            "type": "parcoords"
           }
          ],
          "pie": [
           {
            "automargin": true,
            "type": "pie"
           }
          ],
          "scatter": [
           {
            "fillpattern": {
             "fillmode": "overlay",
             "size": 10,
             "solidity": 0.2
            },
            "type": "scatter"
           }
          ],
          "scatter3d": [
           {
            "line": {
             "colorbar": {
              "outlinewidth": 0,
              "ticks": ""
             }
            },
            "marker": {
             "colorbar": {
              "outlinewidth": 0,
              "ticks": ""
             }
            },
            "type": "scatter3d"
           }
          ],
          "scattercarpet": [
           {
            "marker": {
             "colorbar": {
              "outlinewidth": 0,
              "ticks": ""
             }
            },
            "type": "scattercarpet"
           }
          ],
          "scattergeo": [
           {
            "marker": {
             "colorbar": {
              "outlinewidth": 0,
              "ticks": ""
             }
            },
            "type": "scattergeo"
           }
          ],
          "scattergl": [
           {
            "marker": {
             "colorbar": {
              "outlinewidth": 0,
              "ticks": ""
             }
            },
            "type": "scattergl"
           }
          ],
          "scattermapbox": [
           {
            "marker": {
             "colorbar": {
              "outlinewidth": 0,
              "ticks": ""
             }
            },
            "type": "scattermapbox"
           }
          ],
          "scatterpolar": [
           {
            "marker": {
             "colorbar": {
              "outlinewidth": 0,
              "ticks": ""
             }
            },
            "type": "scatterpolar"
           }
          ],
          "scatterpolargl": [
           {
            "marker": {
             "colorbar": {
              "outlinewidth": 0,
              "ticks": ""
             }
            },
            "type": "scatterpolargl"
           }
          ],
          "scatterternary": [
           {
            "marker": {
             "colorbar": {
              "outlinewidth": 0,
              "ticks": ""
             }
            },
            "type": "scatterternary"
           }
          ],
          "surface": [
           {
            "colorbar": {
             "outlinewidth": 0,
             "ticks": ""
            },
            "colorscale": [
             [
              0,
              "#0d0887"
             ],
             [
              0.1111111111111111,
              "#46039f"
             ],
             [
              0.2222222222222222,
              "#7201a8"
             ],
             [
              0.3333333333333333,
              "#9c179e"
             ],
             [
              0.4444444444444444,
              "#bd3786"
             ],
             [
              0.5555555555555556,
              "#d8576b"
             ],
             [
              0.6666666666666666,
              "#ed7953"
             ],
             [
              0.7777777777777778,
              "#fb9f3a"
             ],
             [
              0.8888888888888888,
              "#fdca26"
             ],
             [
              1,
              "#f0f921"
             ]
            ],
            "type": "surface"
           }
          ],
          "table": [
           {
            "cells": {
             "fill": {
              "color": "#EBF0F8"
             },
             "line": {
              "color": "white"
             }
            },
            "header": {
             "fill": {
              "color": "#C8D4E3"
             },
             "line": {
              "color": "white"
             }
            },
            "type": "table"
           }
          ]
         },
         "layout": {
          "annotationdefaults": {
           "arrowcolor": "#2a3f5f",
           "arrowhead": 0,
           "arrowwidth": 1
          },
          "autotypenumbers": "strict",
          "coloraxis": {
           "colorbar": {
            "outlinewidth": 0,
            "ticks": ""
           }
          },
          "colorscale": {
           "diverging": [
            [
             0,
             "#8e0152"
            ],
            [
             0.1,
             "#c51b7d"
            ],
            [
             0.2,
             "#de77ae"
            ],
            [
             0.3,
             "#f1b6da"
            ],
            [
             0.4,
             "#fde0ef"
            ],
            [
             0.5,
             "#f7f7f7"
            ],
            [
             0.6,
             "#e6f5d0"
            ],
            [
             0.7,
             "#b8e186"
            ],
            [
             0.8,
             "#7fbc41"
            ],
            [
             0.9,
             "#4d9221"
            ],
            [
             1,
             "#276419"
            ]
           ],
           "sequential": [
            [
             0,
             "#0d0887"
            ],
            [
             0.1111111111111111,
             "#46039f"
            ],
            [
             0.2222222222222222,
             "#7201a8"
            ],
            [
             0.3333333333333333,
             "#9c179e"
            ],
            [
             0.4444444444444444,
             "#bd3786"
            ],
            [
             0.5555555555555556,
             "#d8576b"
            ],
            [
             0.6666666666666666,
             "#ed7953"
            ],
            [
             0.7777777777777778,
             "#fb9f3a"
            ],
            [
             0.8888888888888888,
             "#fdca26"
            ],
            [
             1,
             "#f0f921"
            ]
           ],
           "sequentialminus": [
            [
             0,
             "#0d0887"
            ],
            [
             0.1111111111111111,
             "#46039f"
            ],
            [
             0.2222222222222222,
             "#7201a8"
            ],
            [
             0.3333333333333333,
             "#9c179e"
            ],
            [
             0.4444444444444444,
             "#bd3786"
            ],
            [
             0.5555555555555556,
             "#d8576b"
            ],
            [
             0.6666666666666666,
             "#ed7953"
            ],
            [
             0.7777777777777778,
             "#fb9f3a"
            ],
            [
             0.8888888888888888,
             "#fdca26"
            ],
            [
             1,
             "#f0f921"
            ]
           ]
          },
          "colorway": [
           "#636efa",
           "#EF553B",
           "#00cc96",
           "#ab63fa",
           "#FFA15A",
           "#19d3f3",
           "#FF6692",
           "#B6E880",
           "#FF97FF",
           "#FECB52"
          ],
          "font": {
           "color": "#2a3f5f"
          },
          "geo": {
           "bgcolor": "white",
           "lakecolor": "white",
           "landcolor": "#E5ECF6",
           "showlakes": true,
           "showland": true,
           "subunitcolor": "white"
          },
          "hoverlabel": {
           "align": "left"
          },
          "hovermode": "closest",
          "mapbox": {
           "style": "light"
          },
          "paper_bgcolor": "white",
          "plot_bgcolor": "#E5ECF6",
          "polar": {
           "angularaxis": {
            "gridcolor": "white",
            "linecolor": "white",
            "ticks": ""
           },
           "bgcolor": "#E5ECF6",
           "radialaxis": {
            "gridcolor": "white",
            "linecolor": "white",
            "ticks": ""
           }
          },
          "scene": {
           "xaxis": {
            "backgroundcolor": "#E5ECF6",
            "gridcolor": "white",
            "gridwidth": 2,
            "linecolor": "white",
            "showbackground": true,
            "ticks": "",
            "zerolinecolor": "white"
           },
           "yaxis": {
            "backgroundcolor": "#E5ECF6",
            "gridcolor": "white",
            "gridwidth": 2,
            "linecolor": "white",
            "showbackground": true,
            "ticks": "",
            "zerolinecolor": "white"
           },
           "zaxis": {
            "backgroundcolor": "#E5ECF6",
            "gridcolor": "white",
            "gridwidth": 2,
            "linecolor": "white",
            "showbackground": true,
            "ticks": "",
            "zerolinecolor": "white"
           }
          },
          "shapedefaults": {
           "line": {
            "color": "#2a3f5f"
           }
          },
          "ternary": {
           "aaxis": {
            "gridcolor": "white",
            "linecolor": "white",
            "ticks": ""
           },
           "baxis": {
            "gridcolor": "white",
            "linecolor": "white",
            "ticks": ""
           },
           "bgcolor": "#E5ECF6",
           "caxis": {
            "gridcolor": "white",
            "linecolor": "white",
            "ticks": ""
           }
          },
          "title": {
           "x": 0.05
          },
          "xaxis": {
           "automargin": true,
           "gridcolor": "white",
           "linecolor": "white",
           "ticks": "",
           "title": {
            "standoff": 15
           },
           "zerolinecolor": "white",
           "zerolinewidth": 2
          },
          "yaxis": {
           "automargin": true,
           "gridcolor": "white",
           "linecolor": "white",
           "ticks": "",
           "title": {
            "standoff": 15
           },
           "zerolinecolor": "white",
           "zerolinewidth": 2
          }
         }
        },
        "xaxis": {
         "anchor": "y",
         "domain": [
          0,
          1
         ],
         "title": {
          "text": "index"
         }
        },
        "yaxis": {
         "anchor": "x",
         "domain": [
          0,
          1
         ],
         "title": {
          "text": "value"
         }
        }
       }
      },
      "text/html": [
       "<div>                            <div id=\"c275b8ad-8d09-42c8-9cd6-58e2309f4fdb\" class=\"plotly-graph-div\" style=\"height:525px; width:100%;\"></div>            <script type=\"text/javascript\">                require([\"plotly\"], function(Plotly) {                    window.PLOTLYENV=window.PLOTLYENV || {};                                    if (document.getElementById(\"c275b8ad-8d09-42c8-9cd6-58e2309f4fdb\")) {                    Plotly.newPlot(                        \"c275b8ad-8d09-42c8-9cd6-58e2309f4fdb\",                        [{\"hovertemplate\":\"variable=all<br>index=%{x}<br>value=%{y}<extra></extra>\",\"legendgroup\":\"all\",\"line\":{\"color\":\"#636efa\",\"dash\":\"solid\"},\"marker\":{\"symbol\":\"circle\"},\"mode\":\"lines\",\"name\":\"all\",\"orientation\":\"v\",\"showlegend\":true,\"x\":[\"Wed 00:00\",\"Tue 23:00\",\"Tue 22:00\",\"Tue 21:00\",\"Tue 20:00\",\"Tue 19:00\",\"Tue 18:00\",\"Tue 17:00\",\"Tue 16:00\",\"Tue 15:00\",\"Tue 14:00\",\"Tue 13:00\",\"Tue 12:00\",\"Tue 11:00\",\"Tue 10:00\",\"Tue 09:00\",\"Tue 08:00\",\"Tue 07:00\",\"Tue 06:00\",\"Tue 05:00\",\"Tue 04:00\",\"Tue 03:00\",\"Tue 02:00\",\"Tue 01:00\"],\"xaxis\":\"x\",\"y\":[127,31,96,135,117,175,65,101,110,187,127,170,108,121,42,48,87,237,165,75,94,91,164,4],\"yaxis\":\"y\",\"type\":\"scatter\"},{\"hovertemplate\":\"variable=missing<br>index=%{x}<br>value=%{y}<extra></extra>\",\"legendgroup\":\"missing\",\"line\":{\"color\":\"#EF553B\",\"dash\":\"solid\"},\"marker\":{\"symbol\":\"circle\"},\"mode\":\"lines\",\"name\":\"missing\",\"orientation\":\"v\",\"showlegend\":true,\"x\":[\"Wed 00:00\",\"Tue 23:00\",\"Tue 22:00\",\"Tue 21:00\",\"Tue 20:00\",\"Tue 19:00\",\"Tue 18:00\",\"Tue 17:00\",\"Tue 16:00\",\"Tue 15:00\",\"Tue 14:00\",\"Tue 13:00\",\"Tue 12:00\",\"Tue 11:00\",\"Tue 10:00\",\"Tue 09:00\",\"Tue 08:00\",\"Tue 07:00\",\"Tue 06:00\",\"Tue 05:00\",\"Tue 04:00\",\"Tue 03:00\",\"Tue 02:00\",\"Tue 01:00\"],\"xaxis\":\"x\",\"y\":[0,0,0,0,4,17,9,20,0,0,0,0,0,0,0,0,0,0,0,0,0,0,0,0],\"yaxis\":\"y\",\"type\":\"scatter\"}],                        {\"template\":{\"data\":{\"histogram2dcontour\":[{\"type\":\"histogram2dcontour\",\"colorbar\":{\"outlinewidth\":0,\"ticks\":\"\"},\"colorscale\":[[0.0,\"#0d0887\"],[0.1111111111111111,\"#46039f\"],[0.2222222222222222,\"#7201a8\"],[0.3333333333333333,\"#9c179e\"],[0.4444444444444444,\"#bd3786\"],[0.5555555555555556,\"#d8576b\"],[0.6666666666666666,\"#ed7953\"],[0.7777777777777778,\"#fb9f3a\"],[0.8888888888888888,\"#fdca26\"],[1.0,\"#f0f921\"]]}],\"choropleth\":[{\"type\":\"choropleth\",\"colorbar\":{\"outlinewidth\":0,\"ticks\":\"\"}}],\"histogram2d\":[{\"type\":\"histogram2d\",\"colorbar\":{\"outlinewidth\":0,\"ticks\":\"\"},\"colorscale\":[[0.0,\"#0d0887\"],[0.1111111111111111,\"#46039f\"],[0.2222222222222222,\"#7201a8\"],[0.3333333333333333,\"#9c179e\"],[0.4444444444444444,\"#bd3786\"],[0.5555555555555556,\"#d8576b\"],[0.6666666666666666,\"#ed7953\"],[0.7777777777777778,\"#fb9f3a\"],[0.8888888888888888,\"#fdca26\"],[1.0,\"#f0f921\"]]}],\"heatmap\":[{\"type\":\"heatmap\",\"colorbar\":{\"outlinewidth\":0,\"ticks\":\"\"},\"colorscale\":[[0.0,\"#0d0887\"],[0.1111111111111111,\"#46039f\"],[0.2222222222222222,\"#7201a8\"],[0.3333333333333333,\"#9c179e\"],[0.4444444444444444,\"#bd3786\"],[0.5555555555555556,\"#d8576b\"],[0.6666666666666666,\"#ed7953\"],[0.7777777777777778,\"#fb9f3a\"],[0.8888888888888888,\"#fdca26\"],[1.0,\"#f0f921\"]]}],\"heatmapgl\":[{\"type\":\"heatmapgl\",\"colorbar\":{\"outlinewidth\":0,\"ticks\":\"\"},\"colorscale\":[[0.0,\"#0d0887\"],[0.1111111111111111,\"#46039f\"],[0.2222222222222222,\"#7201a8\"],[0.3333333333333333,\"#9c179e\"],[0.4444444444444444,\"#bd3786\"],[0.5555555555555556,\"#d8576b\"],[0.6666666666666666,\"#ed7953\"],[0.7777777777777778,\"#fb9f3a\"],[0.8888888888888888,\"#fdca26\"],[1.0,\"#f0f921\"]]}],\"contourcarpet\":[{\"type\":\"contourcarpet\",\"colorbar\":{\"outlinewidth\":0,\"ticks\":\"\"}}],\"contour\":[{\"type\":\"contour\",\"colorbar\":{\"outlinewidth\":0,\"ticks\":\"\"},\"colorscale\":[[0.0,\"#0d0887\"],[0.1111111111111111,\"#46039f\"],[0.2222222222222222,\"#7201a8\"],[0.3333333333333333,\"#9c179e\"],[0.4444444444444444,\"#bd3786\"],[0.5555555555555556,\"#d8576b\"],[0.6666666666666666,\"#ed7953\"],[0.7777777777777778,\"#fb9f3a\"],[0.8888888888888888,\"#fdca26\"],[1.0,\"#f0f921\"]]}],\"surface\":[{\"type\":\"surface\",\"colorbar\":{\"outlinewidth\":0,\"ticks\":\"\"},\"colorscale\":[[0.0,\"#0d0887\"],[0.1111111111111111,\"#46039f\"],[0.2222222222222222,\"#7201a8\"],[0.3333333333333333,\"#9c179e\"],[0.4444444444444444,\"#bd3786\"],[0.5555555555555556,\"#d8576b\"],[0.6666666666666666,\"#ed7953\"],[0.7777777777777778,\"#fb9f3a\"],[0.8888888888888888,\"#fdca26\"],[1.0,\"#f0f921\"]]}],\"mesh3d\":[{\"type\":\"mesh3d\",\"colorbar\":{\"outlinewidth\":0,\"ticks\":\"\"}}],\"scatter\":[{\"fillpattern\":{\"fillmode\":\"overlay\",\"size\":10,\"solidity\":0.2},\"type\":\"scatter\"}],\"parcoords\":[{\"type\":\"parcoords\",\"line\":{\"colorbar\":{\"outlinewidth\":0,\"ticks\":\"\"}}}],\"scatterpolargl\":[{\"type\":\"scatterpolargl\",\"marker\":{\"colorbar\":{\"outlinewidth\":0,\"ticks\":\"\"}}}],\"bar\":[{\"error_x\":{\"color\":\"#2a3f5f\"},\"error_y\":{\"color\":\"#2a3f5f\"},\"marker\":{\"line\":{\"color\":\"#E5ECF6\",\"width\":0.5},\"pattern\":{\"fillmode\":\"overlay\",\"size\":10,\"solidity\":0.2}},\"type\":\"bar\"}],\"scattergeo\":[{\"type\":\"scattergeo\",\"marker\":{\"colorbar\":{\"outlinewidth\":0,\"ticks\":\"\"}}}],\"scatterpolar\":[{\"type\":\"scatterpolar\",\"marker\":{\"colorbar\":{\"outlinewidth\":0,\"ticks\":\"\"}}}],\"histogram\":[{\"marker\":{\"pattern\":{\"fillmode\":\"overlay\",\"size\":10,\"solidity\":0.2}},\"type\":\"histogram\"}],\"scattergl\":[{\"type\":\"scattergl\",\"marker\":{\"colorbar\":{\"outlinewidth\":0,\"ticks\":\"\"}}}],\"scatter3d\":[{\"type\":\"scatter3d\",\"line\":{\"colorbar\":{\"outlinewidth\":0,\"ticks\":\"\"}},\"marker\":{\"colorbar\":{\"outlinewidth\":0,\"ticks\":\"\"}}}],\"scattermapbox\":[{\"type\":\"scattermapbox\",\"marker\":{\"colorbar\":{\"outlinewidth\":0,\"ticks\":\"\"}}}],\"scatterternary\":[{\"type\":\"scatterternary\",\"marker\":{\"colorbar\":{\"outlinewidth\":0,\"ticks\":\"\"}}}],\"scattercarpet\":[{\"type\":\"scattercarpet\",\"marker\":{\"colorbar\":{\"outlinewidth\":0,\"ticks\":\"\"}}}],\"carpet\":[{\"aaxis\":{\"endlinecolor\":\"#2a3f5f\",\"gridcolor\":\"white\",\"linecolor\":\"white\",\"minorgridcolor\":\"white\",\"startlinecolor\":\"#2a3f5f\"},\"baxis\":{\"endlinecolor\":\"#2a3f5f\",\"gridcolor\":\"white\",\"linecolor\":\"white\",\"minorgridcolor\":\"white\",\"startlinecolor\":\"#2a3f5f\"},\"type\":\"carpet\"}],\"table\":[{\"cells\":{\"fill\":{\"color\":\"#EBF0F8\"},\"line\":{\"color\":\"white\"}},\"header\":{\"fill\":{\"color\":\"#C8D4E3\"},\"line\":{\"color\":\"white\"}},\"type\":\"table\"}],\"barpolar\":[{\"marker\":{\"line\":{\"color\":\"#E5ECF6\",\"width\":0.5},\"pattern\":{\"fillmode\":\"overlay\",\"size\":10,\"solidity\":0.2}},\"type\":\"barpolar\"}],\"pie\":[{\"automargin\":true,\"type\":\"pie\"}]},\"layout\":{\"autotypenumbers\":\"strict\",\"colorway\":[\"#636efa\",\"#EF553B\",\"#00cc96\",\"#ab63fa\",\"#FFA15A\",\"#19d3f3\",\"#FF6692\",\"#B6E880\",\"#FF97FF\",\"#FECB52\"],\"font\":{\"color\":\"#2a3f5f\"},\"hovermode\":\"closest\",\"hoverlabel\":{\"align\":\"left\"},\"paper_bgcolor\":\"white\",\"plot_bgcolor\":\"#E5ECF6\",\"polar\":{\"bgcolor\":\"#E5ECF6\",\"angularaxis\":{\"gridcolor\":\"white\",\"linecolor\":\"white\",\"ticks\":\"\"},\"radialaxis\":{\"gridcolor\":\"white\",\"linecolor\":\"white\",\"ticks\":\"\"}},\"ternary\":{\"bgcolor\":\"#E5ECF6\",\"aaxis\":{\"gridcolor\":\"white\",\"linecolor\":\"white\",\"ticks\":\"\"},\"baxis\":{\"gridcolor\":\"white\",\"linecolor\":\"white\",\"ticks\":\"\"},\"caxis\":{\"gridcolor\":\"white\",\"linecolor\":\"white\",\"ticks\":\"\"}},\"coloraxis\":{\"colorbar\":{\"outlinewidth\":0,\"ticks\":\"\"}},\"colorscale\":{\"sequential\":[[0.0,\"#0d0887\"],[0.1111111111111111,\"#46039f\"],[0.2222222222222222,\"#7201a8\"],[0.3333333333333333,\"#9c179e\"],[0.4444444444444444,\"#bd3786\"],[0.5555555555555556,\"#d8576b\"],[0.6666666666666666,\"#ed7953\"],[0.7777777777777778,\"#fb9f3a\"],[0.8888888888888888,\"#fdca26\"],[1.0,\"#f0f921\"]],\"sequentialminus\":[[0.0,\"#0d0887\"],[0.1111111111111111,\"#46039f\"],[0.2222222222222222,\"#7201a8\"],[0.3333333333333333,\"#9c179e\"],[0.4444444444444444,\"#bd3786\"],[0.5555555555555556,\"#d8576b\"],[0.6666666666666666,\"#ed7953\"],[0.7777777777777778,\"#fb9f3a\"],[0.8888888888888888,\"#fdca26\"],[1.0,\"#f0f921\"]],\"diverging\":[[0,\"#8e0152\"],[0.1,\"#c51b7d\"],[0.2,\"#de77ae\"],[0.3,\"#f1b6da\"],[0.4,\"#fde0ef\"],[0.5,\"#f7f7f7\"],[0.6,\"#e6f5d0\"],[0.7,\"#b8e186\"],[0.8,\"#7fbc41\"],[0.9,\"#4d9221\"],[1,\"#276419\"]]},\"xaxis\":{\"gridcolor\":\"white\",\"linecolor\":\"white\",\"ticks\":\"\",\"title\":{\"standoff\":15},\"zerolinecolor\":\"white\",\"automargin\":true,\"zerolinewidth\":2},\"yaxis\":{\"gridcolor\":\"white\",\"linecolor\":\"white\",\"ticks\":\"\",\"title\":{\"standoff\":15},\"zerolinecolor\":\"white\",\"automargin\":true,\"zerolinewidth\":2},\"scene\":{\"xaxis\":{\"backgroundcolor\":\"#E5ECF6\",\"gridcolor\":\"white\",\"linecolor\":\"white\",\"showbackground\":true,\"ticks\":\"\",\"zerolinecolor\":\"white\",\"gridwidth\":2},\"yaxis\":{\"backgroundcolor\":\"#E5ECF6\",\"gridcolor\":\"white\",\"linecolor\":\"white\",\"showbackground\":true,\"ticks\":\"\",\"zerolinecolor\":\"white\",\"gridwidth\":2},\"zaxis\":{\"backgroundcolor\":\"#E5ECF6\",\"gridcolor\":\"white\",\"linecolor\":\"white\",\"showbackground\":true,\"ticks\":\"\",\"zerolinecolor\":\"white\",\"gridwidth\":2}},\"shapedefaults\":{\"line\":{\"color\":\"#2a3f5f\"}},\"annotationdefaults\":{\"arrowcolor\":\"#2a3f5f\",\"arrowhead\":0,\"arrowwidth\":1},\"geo\":{\"bgcolor\":\"white\",\"landcolor\":\"#E5ECF6\",\"subunitcolor\":\"white\",\"showland\":true,\"showlakes\":true,\"lakecolor\":\"white\"},\"title\":{\"x\":0.05},\"mapbox\":{\"style\":\"light\"}}},\"xaxis\":{\"anchor\":\"y\",\"domain\":[0.0,1.0],\"title\":{\"text\":\"index\"}},\"yaxis\":{\"anchor\":\"x\",\"domain\":[0.0,1.0],\"title\":{\"text\":\"value\"}},\"legend\":{\"title\":{\"text\":\"variable\"},\"tracegroupgap\":0},\"margin\":{\"t\":60}},                        {\"responsive\": true}                    ).then(function(){\n",
       "                            \n",
       "var gd = document.getElementById('c275b8ad-8d09-42c8-9cd6-58e2309f4fdb');\n",
       "var x = new MutationObserver(function (mutations, observer) {{\n",
       "        var display = window.getComputedStyle(gd).display;\n",
       "        if (!display || display === 'none') {{\n",
       "            console.log([gd, 'removed!']);\n",
       "            Plotly.purge(gd);\n",
       "            observer.disconnect();\n",
       "        }}\n",
       "}});\n",
       "\n",
       "// Listen for the removal of the full notebook cells\n",
       "var notebookContainer = gd.closest('#notebook-container');\n",
       "if (notebookContainer) {{\n",
       "    x.observe(notebookContainer, {childList: true});\n",
       "}}\n",
       "\n",
       "// Listen for the clearing of the current output cell\n",
       "var outputEl = gd.closest('.output');\n",
       "if (outputEl) {{\n",
       "    x.observe(outputEl, {childList: true});\n",
       "}}\n",
       "\n",
       "                        })                };                });            </script>        </div>"
      ]
     },
     "metadata": {},
     "output_type": "display_data"
    }
   ],
   "source": [
    "import plotly.express as px\n",
    "from datetime import timezone\n",
    "from pandas import DataFrame\n",
    "\n",
    "# We'll set the windows to be each hour, and format the times in UTC.\n",
    "def time_window(time: datetime) -> str:\n",
    "    return time.astimezone(timezone.utc).strftime(\"%a %H:00\")\n",
    "\n",
    "# Now build up a dict of each time window.\n",
    "hours = {}\n",
    "\n",
    "for version in added:\n",
    "    window = time_window(version[\"when\"])\n",
    "    if window in hours:\n",
    "        hours[window][\"all\"] += 1\n",
    "    else:\n",
    "        hours[window] = {\"all\": 0, \"missing\": 0}\n",
    "        \n",
    "for version in missing:\n",
    "    window = time_window(version[\"when\"])\n",
    "    hours[window][\"missing\"] += 1\n",
    "    \n",
    "# Turn it into a data frame.\n",
    "hours = DataFrame.from_dict(hours, orient=\"index\")\n",
    "    \n",
    "# And we can chart it.\n",
    "px.line(hours)"
   ]
  }
 ],
 "metadata": {
  "kernelspec": {
   "display_name": "Python 3 (ipykernel)",
   "language": "python",
   "name": "python3"
  },
  "language_info": {
   "codemirror_mode": {
    "name": "ipython",
    "version": 3
   },
   "file_extension": ".py",
   "mimetype": "text/x-python",
   "name": "python",
   "nbconvert_exporter": "python",
   "pygments_lexer": "ipython3",
   "version": "3.10.10"
  }
 },
 "nbformat": 4,
 "nbformat_minor": 5
}
